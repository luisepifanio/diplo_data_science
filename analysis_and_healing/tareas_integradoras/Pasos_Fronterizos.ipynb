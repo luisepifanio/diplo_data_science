{
 "cells": [
  {
   "cell_type": "code",
   "execution_count": 1,
   "metadata": {},
   "outputs": [],
   "source": [
    "%matplotlib inline\n",
    "import pandas as pd\n",
    "import copy\n",
    "import matplotlib.pyplot as plt\n",
    "from gmplot import gmplot"
   ]
  },
  {
   "cell_type": "markdown",
   "metadata": {},
   "source": [
    "# Análisis exploratorio y curación de datos\n",
    "\n",
    "## Ejercicio: Pasos fronterizos de argentina\n",
    "\n",
    "Leer ubicaciones de pasos fronterizos y dibujar en un mapa.\n",
    "https://github.com/vgm64/gmplot"
   ]
  },
  {
   "cell_type": "code",
   "execution_count": 2,
   "metadata": {},
   "outputs": [
    {
     "data": {
      "text/html": [
       "<div>\n",
       "<style scoped>\n",
       "    .dataframe tbody tr th:only-of-type {\n",
       "        vertical-align: middle;\n",
       "    }\n",
       "\n",
       "    .dataframe tbody tr th {\n",
       "        vertical-align: top;\n",
       "    }\n",
       "\n",
       "    .dataframe thead th {\n",
       "        text-align: right;\n",
       "    }\n",
       "</style>\n",
       "<table border=\"1\" class=\"dataframe\">\n",
       "  <thead>\n",
       "    <tr style=\"text-align: right;\">\n",
       "      <th></th>\n",
       "      <th>key</th>\n",
       "      <th>location</th>\n",
       "      <th>name</th>\n",
       "    </tr>\n",
       "  </thead>\n",
       "  <tbody>\n",
       "    <tr>\n",
       "      <th>0</th>\n",
       "      <td>SAN SEBASTIAN  ( USHUAIA )</td>\n",
       "      <td>[-54.832543, -68.3712885]</td>\n",
       "      <td>SAN SEBASTIAN  ( USHUAIA )</td>\n",
       "    </tr>\n",
       "    <tr>\n",
       "      <th>1</th>\n",
       "      <td>AERO PUBLICO DE USHUAIA</td>\n",
       "      <td>[-54.8249379, -68.3258626]</td>\n",
       "      <td>AERO PUBLICO DE USHUAIA</td>\n",
       "    </tr>\n",
       "    <tr>\n",
       "      <th>2</th>\n",
       "      <td>PUERTO USHUAIA (PREFECTURA)</td>\n",
       "      <td>[-54.8096728, -68.3114748]</td>\n",
       "      <td>PUERTO USHUAIA (PREFECTURA)</td>\n",
       "    </tr>\n",
       "    <tr>\n",
       "      <th>3</th>\n",
       "      <td>PUERTO USHUAIA</td>\n",
       "      <td>[-54.8019121, -68.3029511]</td>\n",
       "      <td>PUERTO USHUAIA</td>\n",
       "    </tr>\n",
       "    <tr>\n",
       "      <th>4</th>\n",
       "      <td>PASO LAURITA CASAS VIEJAS</td>\n",
       "      <td>[-51.6896359, -72.2993574]</td>\n",
       "      <td>PASO LAURITA CASAS VIEJAS</td>\n",
       "    </tr>\n",
       "  </tbody>\n",
       "</table>\n",
       "</div>"
      ],
      "text/plain": [
       "                           key                    location  \\\n",
       "0   SAN SEBASTIAN  ( USHUAIA )   [-54.832543, -68.3712885]   \n",
       "1      AERO PUBLICO DE USHUAIA  [-54.8249379, -68.3258626]   \n",
       "2  PUERTO USHUAIA (PREFECTURA)  [-54.8096728, -68.3114748]   \n",
       "3               PUERTO USHUAIA  [-54.8019121, -68.3029511]   \n",
       "4    PASO LAURITA CASAS VIEJAS  [-51.6896359, -72.2993574]   \n",
       "\n",
       "                          name  \n",
       "0   SAN SEBASTIAN  ( USHUAIA )  \n",
       "1      AERO PUBLICO DE USHUAIA  \n",
       "2  PUERTO USHUAIA (PREFECTURA)  \n",
       "3               PUERTO USHUAIA  \n",
       "4    PASO LAURITA CASAS VIEJAS  "
      ]
     },
     "execution_count": 2,
     "metadata": {},
     "output_type": "execute_result"
    }
   ],
   "source": [
    "datasetPasos = pd.read_json('pasos.json')\n",
    "datasetPasos.head()"
   ]
  },
  {
   "cell_type": "code",
   "execution_count": 3,
   "metadata": {},
   "outputs": [],
   "source": [
    "# Inicializo el mapa\n",
    "gmap = gmplot.GoogleMapPlotter(-40.112480, -65.109270, 4)\n",
    "\n",
    "# Coordenadas pasos fronterizos\n",
    "top_attraction_lats, top_attraction_lons = zip(*datasetPasos[\"location\"].values)\n",
    "gmap.scatter(top_attraction_lats, top_attraction_lons, '#ff0000', size=500, marker=False)\n",
    "\n",
    "# Dibujo el mapa, Windows se crea un html dentro de la misma carpeta\n",
    "gmap.draw(\"pasosFronterizos.html\")"
   ]
  },
  {
   "cell_type": "code",
   "execution_count": null,
   "metadata": {},
   "outputs": [],
   "source": []
  }
 ],
 "metadata": {
  "kernelspec": {
   "display_name": "Python 3",
   "language": "python",
   "name": "python3"
  },
  "language_info": {
   "codemirror_mode": {
    "name": "ipython",
    "version": 3
   },
   "file_extension": ".py",
   "mimetype": "text/x-python",
   "name": "python",
   "nbconvert_exporter": "python",
   "pygments_lexer": "ipython3",
   "version": "3.6.4"
  }
 },
 "nbformat": 4,
 "nbformat_minor": 2
}
