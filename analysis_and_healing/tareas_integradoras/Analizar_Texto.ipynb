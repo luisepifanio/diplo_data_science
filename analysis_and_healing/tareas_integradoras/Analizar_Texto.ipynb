{
 "cells": [
  {
   "cell_type": "code",
   "execution_count": null,
   "metadata": {},
   "outputs": [],
   "source": [
    "%matplotlib inline\n",
    "import pandas as pd\n",
    "import numpy as np \n",
    "import matplotlib.pyplot as plt \n",
    "import textacy\n",
    "from collections import Counter, defaultdict\n",
    "import warnings; warnings.simplefilter('ignore')\n",
    "import spacy\n",
    "\n",
    "# función auxiliar\n",
    "def leer_texto(texto):\n",
    "    \"\"\"Funcion auxiliar para leer un archivo de texto\"\"\"\n",
    "    with open(texto, 'r', encoding=\"utf8\") as text:\n",
    "        return text.read()"
   ]
  },
  {
   "cell_type": "markdown",
   "metadata": {},
   "source": [
    "## Ejercicio: Analizar texto\n",
    "\n",
    "● Utilizar un texto de proyecto Gutenberg en castellano http://www.gutenberg.org/browse/languages/es.\n",
    "\n",
    "● Hint: Tutorial para español https://relopezbriega.github.io/blog/2017/09/23/procesamiento-del-lenguaje-natural-con-python/ \n",
    "\n",
    "● Usa spacy.io y github.com/chartbeat-labs/textacy "
   ]
  },
  {
   "cell_type": "code",
   "execution_count": 67,
   "metadata": {},
   "outputs": [],
   "source": [
    "# Cargando el modelo en español de spacy // https://spacy.io/usage/models\n",
    "nlp = textacy.load_spacy(\"es\")"
   ]
  },
  {
   "cell_type": "code",
   "execution_count": 68,
   "metadata": {},
   "outputs": [],
   "source": [
    "texto = leer_texto('LaNarizDeUnNotario.txt')"
   ]
  },
  {
   "cell_type": "markdown",
   "metadata": {},
   "source": [
    "● Contar palabras y ordenar por frecuencia:\n",
    "\n",
    "    ● Limpiar preludio y licencia de Project Gutenberg."
   ]
  },
  {
   "cell_type": "code",
   "execution_count": 84,
   "metadata": {},
   "outputs": [
    {
     "data": {
      "text/plain": [
       "\"EL ORIENTE Y EL OCCIDENTE SE ACOMETEN: LA SANGRE CORRE YA\\n\\n\\nMaese Alfredo L'Ambert, antes de recibir\""
      ]
     },
     "execution_count": 84,
     "metadata": {},
     "output_type": "execute_result"
    }
   ],
   "source": [
    "refPreludio =\"EL ORIENTE Y EL OCCIDENTE SE ACOMETEN: LA SANGRE CORRE YA\"\n",
    "refLicencia =\"FIN\"\n",
    "preludio, refPreludio, textoValido = texto.partition(refPreludio)\n",
    "textoValido, refLicencia, licencia = textoValido.partition(refLicencia)\n",
    "texto = refPreludio + textoValido\n",
    "texto[0:100]"
   ]
  },
  {
   "cell_type": "markdown",
   "metadata": {},
   "source": [
    "    ● Omitir “palabras vacías” (stop words) y símbolos."
   ]
  },
  {
   "cell_type": "code",
   "execution_count": 70,
   "metadata": {},
   "outputs": [
    {
     "name": "stdout",
     "output_type": "stream",
     "text": [
      "1309\n"
     ]
    }
   ],
   "source": [
    "texto_procesado = nlp(texto)\n",
    "# Cuántas sentencias hay en el texto?\n",
    "sentencias = [s for s in texto_procesado.sents]\n",
    "print(len(sentencias))"
   ]
  },
  {
   "cell_type": "code",
   "execution_count": 71,
   "metadata": {},
   "outputs": [
    {
     "name": "stdout",
     "output_type": "stream",
     "text": [
      "[En la época aquella contaba treinta y dos años; era de elevada\n",
      "estatura, y poseía unos ojos grandes y rasgados, una frente despejada y\n",
      "olímpica, y su barba y sus cabellos eran de un rubio admirable., Su nariz\n",
      "(la parte más prominente de su cuerpo), se retorcía majestuosa en forma\n",
      "de pico de águila., Aunque alguno no me crea, su nítida corbata blanca le\n",
      "sentaba a maravilla., ¿Era debido esto a que la usaba desde su más tierna\n",
      "infancia, o porque se surtía de ellas en alguna tienda afamada?, Yo opino\n",
      "que eran ambas razones a un tiempo.\n",
      "\n",
      ", Una cosa es atarse en torno del cuello un pañuelo de bolsillo blanco,\n",
      "hecho una torcida, y otra muy distinta formar, con arte y perfección, un\n",
      "espléndido nudo de inmaculada batista, cuyas puntas iguales, almidonadas\n",
      "sin exceso, se dirigen simétricamente a derecha e izquierda., Una corbata\n",
      "blanca elegida con acierto y anudada con esmero no es un adorno sin\n",
      "gracia; todas las mujeres os dirán lo mismo que yo., Pero no basta\n",
      "anudársela con maestría y con primor; es preciso, además, saberla\n",
      "llevar; esto es cuestión de práctica., ¿Por qué parecen los obreros tan\n",
      "torpes y desmañados el día que se casan?, Porque suelen colocarse para el\n",
      "acto de la boda una corbata blanca sin previa preparación.\n",
      "\n",
      "]\n"
     ]
    }
   ],
   "source": [
    "# imprimir las primeras 10 sentencias para verificar el texto# imprim \n",
    "print(sentencias[1:11])"
   ]
  },
  {
   "cell_type": "markdown",
   "metadata": {},
   "source": [
    "● Encontrar personajes."
   ]
  },
  {
   "cell_type": "code",
   "execution_count": 78,
   "metadata": {},
   "outputs": [],
   "source": [
    "#'PERSON' como esta el ejemplo, no funciona\n",
    "def encontrar_personajes(doc):\n",
    "    \"\"\"\n",
    "    Devuelve una lista de los personajes de un `doc` con su cantidad de\n",
    "    ocurrencias\n",
    "    \n",
    "    :param doc: NLP documento parseado por Spacy\n",
    "    :return: Lista de Tuplas con la forma\n",
    "        [('winston', 686), (\"o'brien\", 135), ('julia', 85),]\n",
    "    \"\"\"\n",
    "    \n",
    "    personajes = Counter()\n",
    "    for ent in doc.ents:\n",
    "        if ent.label_ == 'PER': \n",
    "            personajes[ent.lemma_] += 1\n",
    "            #print(\"Encontro un personaje\")\n",
    "            \n",
    "    return personajes.most_common()"
   ]
  },
  {
   "cell_type": "code",
   "execution_count": 79,
   "metadata": {},
   "outputs": [
    {
     "name": "stdout",
     "output_type": "stream",
     "text": [
      "[(\"L'Ambert\", 36), ('Romagné', 25), (\"M. L'Ambert\", 23), ('Bernier', 23), ('', 12), (\"Alfredo L'Ambert\", 8), ('Ahmed', 6), ('Steimbourg', 4), ('¡ Qué', 3), ('Lepeletier', 3), ('Villemaurin', 3), ('M. Bernier', 3), ('Pero', 3), ('Alfredo', 2), ('Rossini', 2), ('Mahoma', 2), ('Ayvaz', 2), ('Osmán', 2), ('Enrique Steimbourg', 2), ('Rousseau', 2)]\n"
     ]
    }
   ],
   "source": [
    "# Extrayendo los personajes principales del texto y contando cuantas veces\n",
    "# son nombrados.\n",
    "print(encontrar_personajes(texto_procesado)[:20])"
   ]
  },
  {
   "cell_type": "markdown",
   "metadata": {},
   "source": [
    "● Hacer un análisis extra a gusto."
   ]
  },
  {
   "cell_type": "code",
   "execution_count": null,
   "metadata": {},
   "outputs": [],
   "source": []
  }
 ],
 "metadata": {
  "kernelspec": {
   "display_name": "Python 3",
   "language": "python",
   "name": "python3"
  },
  "language_info": {
   "codemirror_mode": {
    "name": "ipython",
    "version": 3
   },
   "file_extension": ".py",
   "mimetype": "text/x-python",
   "name": "python",
   "nbconvert_exporter": "python",
   "pygments_lexer": "ipython3",
   "version": "3.6.4"
  }
 },
 "nbformat": 4,
 "nbformat_minor": 2
}
