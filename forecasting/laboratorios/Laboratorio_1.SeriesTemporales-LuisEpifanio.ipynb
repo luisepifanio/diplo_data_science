{
 "cells": [
  {
   "cell_type": "markdown",
   "metadata": {},
   "source": [
    "# Análisis de Series Temporales\n",
    "## Laboratorio 1\n",
    "\n",
    "Estudiante: Ing. Luis Epifanio (luis.epifanio@gmail.com)"
   ]
  },
  {
   "cell_type": "markdown",
   "metadata": {},
   "source": [
    "# 1. Consigna\n",
    "\n",
    "1) Levantar los datos desde el archivo dataset/Telefonia_movil.csv. Los mismos fueron extraídos de http://datosabiertos.enacom.gob.ar/visualizations/29890/trafico-de -suscriptores-de-telefonia-movil-miles-de-minutos/ \n",
    "\n",
    "> Ver apartado [2.1. Carga y Limpieza de Datos](#2.1.-Carga-y-Limpieza-de-Datos)\n",
    "\n",
    "2) Explorar los datos, visualizarlos.\n",
    "\n",
    "> Ver apartado [2.2.-Análisis-Exploratorio](#2.2.-Análisis-Exploratorio.)\n",
    "\n",
    "3) Implementar dos modelos (como ser Random Walk (Naïve) y Exponential Smoothing).\n",
    "\n",
    "> Ver apartado [2.3.-Implementación-de-Modelos](#2.3.-Implementación-de-Modelos)\n",
    ">\n",
    "> -[2.3.1.-Random-Walk-(Naïve)](#2.3.1.-Random-Walk-(Naïve))\n",
    ">\n",
    "> -[2.3.2.-Exponential-Smoothing](#2.3.2.-Exponential-Smoothing)\n",
    "\n",
    "4) Visualizar los resultados y evaluarlos, comparando ambas implementaciones.\n",
    "\n",
    "> Ver apartado [4.-Comparación-y-Selección-del-Modelo](#4.-Comparación-y-Selección-del-Modelo)\n"
   ]
  },
  {
   "cell_type": "markdown",
   "metadata": {},
   "source": [
    "# 2. Desarrollo"
   ]
  },
  {
   "cell_type": "markdown",
   "metadata": {},
   "source": [
    "## 2.1. Carga y Limpieza de Datos\n",
    "\n",
    "Correspondiente al punto 1: Levantar los datos desde el archivo dataset/Telefonia_movil.csv. Los mismos fueron extraídos de http://datosabiertos.enacom.gob.ar/visualizations/29890/trafico-de -suscriptores-de-telefonia-movil-miles-de-minutos/"
   ]
  },
  {
   "cell_type": "code",
   "execution_count": 1,
   "metadata": {},
   "outputs": [
    {
     "ename": "ModuleNotFoundError",
     "evalue": "No module named 'plotting'",
     "output_type": "error",
     "traceback": [
      "\u001b[0;31m---------------------------------------------------------------------------\u001b[0m",
      "\u001b[0;31mModuleNotFoundError\u001b[0m                       Traceback (most recent call last)",
      "\u001b[0;32m<ipython-input-1-5785067dffdb>\u001b[0m in \u001b[0;36m<module>\u001b[0;34m\u001b[0m\n\u001b[0;32m----> 1\u001b[0;31m \u001b[0;32mfrom\u001b[0m \u001b[0mplotting\u001b[0m \u001b[0;32mimport\u001b[0m \u001b[0mfanchart\u001b[0m\u001b[0;34m\u001b[0m\u001b[0m\n\u001b[0m\u001b[1;32m      2\u001b[0m \u001b[0;32mfrom\u001b[0m \u001b[0mscipy\u001b[0m \u001b[0;32mimport\u001b[0m \u001b[0mstats\u001b[0m\u001b[0;34m\u001b[0m\u001b[0m\n\u001b[1;32m      3\u001b[0m \u001b[0;34m\u001b[0m\u001b[0m\n\u001b[1;32m      4\u001b[0m \u001b[0;32mimport\u001b[0m \u001b[0mmatplotlib\u001b[0m\u001b[0;34m.\u001b[0m\u001b[0mpyplot\u001b[0m \u001b[0;32mas\u001b[0m \u001b[0mplt\u001b[0m\u001b[0;34m\u001b[0m\u001b[0m\n\u001b[1;32m      5\u001b[0m \u001b[0;32mimport\u001b[0m \u001b[0mnumpy\u001b[0m \u001b[0;32mas\u001b[0m \u001b[0mnp\u001b[0m\u001b[0;34m\u001b[0m\u001b[0m\n",
      "\u001b[0;31mModuleNotFoundError\u001b[0m: No module named 'plotting'"
     ]
    }
   ],
   "source": [
    "from plotting import fanchart\n",
    "from scipy import stats\n",
    "\n",
    "import matplotlib.pyplot as plt\n",
    "import numpy as np\n",
    "import pandas as pd\n",
    "import seaborn as sns\n",
    "import statsmodels.api as sm"
   ]
  },
  {
   "cell_type": "markdown",
   "metadata": {},
   "source": [
    "Algunas funciones y configuracioens de soporte"
   ]
  },
  {
   "cell_type": "code",
   "execution_count": null,
   "metadata": {},
   "outputs": [],
   "source": [
    "# Plot settings\n",
    "sns.set_context('notebook') \n",
    "sns.set_style('ticks')\n",
    "red='#D62728'\n",
    "green='#227722'\n",
    "blue='#1F77B4'\n",
    "black='#000000'\n",
    "%matplotlib inline"
   ]
  },
  {
   "cell_type": "code",
   "execution_count": null,
   "metadata": {},
   "outputs": [],
   "source": [
    "plt.rcParams['figure.figsize'] = [15, 10]\n",
    "plt.style.use('ggplot')"
   ]
  },
  {
   "cell_type": "code",
   "execution_count": null,
   "metadata": {},
   "outputs": [],
   "source": [
    "def asQuarter(year, quarter):\n",
    "    return str(year) + 'Q' + str(quarter)"
   ]
  },
  {
   "cell_type": "code",
   "execution_count": null,
   "metadata": {},
   "outputs": [],
   "source": [
    "# Load\n",
    "data = pd.read_csv('datasets/Telefonia_movil.csv', parse_dates=True, dayfirst=True, thousands='.')\n",
    "#Create Quarter column as new index to be\n",
    "data['quarter'] = data.apply(lambda x: asQuarter(x['Año'], x['Trimestre']), axis=1)\n",
    "data['quarter'] = pd.to_datetime(data.quarter).dt.to_period('Q')\n",
    "data=data.set_index('quarter')\n",
    "#Drop some columns not needed\n",
    "if ({'Año', 'Trimestre','Periodo'}.issubset(data.columns)):\n",
    "    data.drop(['Año', 'Trimestre', 'Periodo'], axis=1, inplace=True)\n",
    "#Rename columns for simplicity\n",
    "data.rename(columns={\n",
    "    'Minutos pospago salientes (miles)' : 'pospago', \n",
    "    'Minutos prepago salientes (miles)' : 'prepago', \n",
    "    'Total de minutos salientes (miles)': 'total'\n",
    "\n",
    "}, inplace=True)\n",
    "#TODO use PeriodIndex to build index\n",
    "data.head(5)"
   ]
  },
  {
   "cell_type": "code",
   "execution_count": null,
   "metadata": {},
   "outputs": [],
   "source": [
    "display(data.dtypes)"
   ]
  },
  {
   "cell_type": "code",
   "execution_count": null,
   "metadata": {},
   "outputs": [],
   "source": [
    "data.isnull().sum(axis = 0)"
   ]
  },
  {
   "cell_type": "markdown",
   "metadata": {},
   "source": [
    "## 2.2. Análisis Exploratorio.\n",
    "\n",
    "Correspondiente al punto 2: Explorar los datos, visualizarlos."
   ]
  },
  {
   "cell_type": "code",
   "execution_count": null,
   "metadata": {},
   "outputs": [],
   "source": [
    "data.tail()"
   ]
  },
  {
   "cell_type": "code",
   "execution_count": null,
   "metadata": {},
   "outputs": [],
   "source": [
    "data.plot()"
   ]
  },
  {
   "cell_type": "markdown",
   "metadata": {},
   "source": [
    "La serie que tomaremos como foco de analisis será la correspondiente a `Minutos pospago salientes (miles)` o en nuesto dataset `'pospago'`"
   ]
  },
  {
   "cell_type": "code",
   "execution_count": null,
   "metadata": {},
   "outputs": [],
   "source": [
    "serie_name = 'pospago'\n",
    "y=data[serie_name]"
   ]
  },
  {
   "cell_type": "code",
   "execution_count": null,
   "metadata": {},
   "outputs": [],
   "source": [
    "fig, ax= plt.subplots()\n",
    "y.plot(color=green)\n",
    "ax.set_xlabel('')\n",
    "ax.set_ylabel(serie_name)\n",
    "ax.set_title(serie_name)\n",
    "ax.set_xticks([], minor=True) \n",
    "sns.despine()\n",
    "plt.show()"
   ]
  },
  {
   "cell_type": "code",
   "execution_count": null,
   "metadata": {},
   "outputs": [],
   "source": [
    "y.describe().round(2)"
   ]
  },
  {
   "cell_type": "markdown",
   "metadata": {},
   "source": [
    "## 2.3. Implementación de Modelos\n",
    "\n",
    "Correspondiente al punto 3: Implementar dos modelos (como ser Random Walk (Naïve) y Exponential Smoothing)."
   ]
  },
  {
   "cell_type": "markdown",
   "metadata": {},
   "source": [
    "### 2.3.1. Random Walk (Naïve)"
   ]
  },
  {
   "cell_type": "code",
   "execution_count": null,
   "metadata": {},
   "outputs": [],
   "source": [
    "def analyzeAndPlotRandowWalk(serie):\n",
    "    h = 4\n",
    "    test = pd.period_range(\n",
    "        start=serie.index[-1]+1, \n",
    "        periods=h, \n",
    "        freq='Q'\n",
    "    )\n",
    "    pred = pd.Series(np.repeat(serie.iloc[-1], h), index=test) # the forecast repeats the last observed values h times\n",
    "    \n",
    "    print('Predictions:')\n",
    "    display(pred)\n",
    "    \n",
    "    resid=serie-serie.shift(1) # the shift lags the series by one period\n",
    "    sigma = resid.std()\n",
    "    round(sigma,3)\n",
    "\n",
    "    intv = pd.concat([pred-stats.norm.ppf(0.975)*sigma*np.sqrt(np.arange(1,h+1)),\n",
    "                       pred+stats.norm.ppf(0.975)*sigma*np.sqrt(np.arange(1,h+1))], axis=1)\n",
    "    \n",
    "    print('')\n",
    "    display(intv.round(3))\n",
    "    \n",
    "    point_pred = (intv[0]+intv[1])/2\n",
    "\n",
    "    fig, ax = fanchart(serie['2013Q1':],point_pred,intv,intv,intv)\n",
    "\n",
    "    plt.show()"
   ]
  },
  {
   "cell_type": "code",
   "execution_count": null,
   "metadata": {},
   "outputs": [],
   "source": [
    "serie_name = 'pospago'\n",
    "y = data[serie_name]\n",
    "analyzeAndPlotRandowWalk(y)"
   ]
  },
  {
   "cell_type": "code",
   "execution_count": null,
   "metadata": {},
   "outputs": [],
   "source": [
    "naive = y.copy()\n",
    "naive = naive.shift(1)"
   ]
  },
  {
   "cell_type": "code",
   "execution_count": null,
   "metadata": {},
   "outputs": [],
   "source": [
    "fig, ax= plt.subplots(figsize=(15,10))\n",
    "y.plot(color=red, label='Observado')\n",
    "naive.plot(color=blue, label='Naïve')\n",
    "ax.set_xlabel('')\n",
    "ax.set_ylabel(serie_name)\n",
    "ax.set_title(serie_name)\n",
    "ax.set_xticks([], minor=True) \n",
    "plt.legend(loc='best')\n",
    "sns.despine()\n",
    "plt.show()"
   ]
  },
  {
   "cell_type": "markdown",
   "metadata": {},
   "source": [
    "### 2.3.2. Exponential Smoothing"
   ]
  },
  {
   "cell_type": "markdown",
   "metadata": {},
   "source": [
    "#### 2.3.2.1. Modelo y Ajuste con Exponential Smoothing"
   ]
  },
  {
   "cell_type": "code",
   "execution_count": null,
   "metadata": {},
   "outputs": [],
   "source": [
    "def analyzeAndPlotExpSmoothing(y):\n",
    "    model_ses = sm.tsa.SimpleExpSmoothing(y).fit()\n",
    "    fitted_ses = model_ses.fittedvalues\n",
    "    # model_ses.summary() # summary isn't implemented in 0.9, looks it'll be avaible in 0.10\n",
    "    alpha_ses = model_ses.model.params['smoothing_level']\n",
    "    mse_ses = sm.tools.eval_measures.mse(y,fitted_ses)\n",
    "    # loglik_ses = model_ses.model.loglike(model_ses.model.params) # NotImplementedError\n",
    "    aic_ses = model_ses.aic\n",
    "    bic_ses = model_ses.bic\n",
    "    print(' Smoothing parameter: alpha  {0:.3f}'.format(alpha_ses))\n",
    "    print(' In-sample fit:')\n",
    "    print(' MSE               {0:.3f}'.format(mse_ses))\n",
    "    print(' AIC               {0:.3f}'.format(aic_ses))\n",
    "    print(' BIC               {0:.3f}'.format(bic_ses))\n",
    "    print()\n",
    "    N = len(y)\n",
    "    loglik_ses=-(N/2)*(1+np.log(2*np.pi))-(N/2)*np.log(mse_ses)\n",
    "    aic_ses=-2*loglik_ses+2*3\n",
    "    bic_ses=-2*loglik_ses+np.log(N)*3\n",
    "    print(' Log-likelihood    %.3f' % (loglik_ses))\n",
    "    print(' AIC               {0:.3f}'.format(aic_ses))\n",
    "    print(' BIC               {0:.3f}'.format(bic_ses))\n",
    "    \n",
    "    fig, ax= plt.subplots(figsize=(15,10))\n",
    "    y.plot(color=red, label='Inflation')\n",
    "    fitted_ses.plot(color='blue', label='Simple exponential smoothing fit', alpha=0.8)\n",
    "    ax.set_xlabel('')\n",
    "    ax.set_ylabel('Original')\n",
    "    ax.set_title('Comparison')\n",
    "    ax.set_xticks([], minor=True) \n",
    "    plt.legend(loc='best')\n",
    "    sns.despine()\n",
    "    plt.show()\n",
    "    \n",
    "    return fitted_ses\n"
   ]
  },
  {
   "cell_type": "code",
   "execution_count": null,
   "metadata": {},
   "outputs": [],
   "source": [
    "fitted_ses = analyzeAndPlotExpSmoothing(data['pospago'])"
   ]
  },
  {
   "cell_type": "markdown",
   "metadata": {},
   "source": [
    "#### 2.3.2.2. Diagnóstico del Modelo Generado con Exponential Smoothing"
   ]
  },
  {
   "cell_type": "code",
   "execution_count": null,
   "metadata": {},
   "outputs": [],
   "source": [
    "resid=y-fitted_ses "
   ]
  },
  {
   "cell_type": "code",
   "execution_count": null,
   "metadata": {},
   "outputs": [],
   "source": [
    "fig, ax= plt.subplots()\n",
    "resid.plot(color=blue)\n",
    "ax.set_xlabel('')\n",
    "ax.set_xticks([], minor=True) \n",
    "ax.set_title('Residual plot')\n",
    "sns.despine()\n",
    "plt.show()"
   ]
  },
  {
   "cell_type": "code",
   "execution_count": null,
   "metadata": {},
   "outputs": [],
   "source": [
    "lags_num = len(resid) - 1\n",
    "fig, ax = plt.subplots()\n",
    "sm.graphics.tsa.plot_acf(resid, lags=lags_num, ax=ax)\n",
    "sns.despine()\n",
    "plt.show()"
   ]
  },
  {
   "cell_type": "code",
   "execution_count": null,
   "metadata": {},
   "outputs": [],
   "source": [
    "def hist(series):\n",
    "    fig, ax= plt.subplots()\n",
    "    sns.distplot(series, ax=ax, hist_kws={'alpha': 0.8, 'edgecolor':'black', 'color': blue},  \n",
    "                 kde_kws={'color': 'black', 'alpha': 0.7})\n",
    "    sns.despine()\n",
    "    return fig, ax\n",
    "\n",
    "hist(resid)\n",
    "plt.show()"
   ]
  },
  {
   "cell_type": "markdown",
   "metadata": {},
   "source": [
    "#### 2.3.2.3. Pronóstico con el Modelo Generado con Exponential Smoothing"
   ]
  },
  {
   "cell_type": "code",
   "execution_count": null,
   "metadata": {},
   "outputs": [],
   "source": [
    "h=12\n",
    "w=h*10\n",
    "data = y\n",
    "model = sm.tsa.SimpleExpSmoothing\n",
    "pred_index = y.index[-1] + np.array(range(1,h+1))\n",
    "pred_rolling = pd.Series(0,index=pred_index)\n",
    "pred_expanding = pd.Series(0,index=pred_index)\n",
    "orig_fit = None\n",
    "for i in range(0,h):\n",
    "    current = pd.concat([data, pred_expanding.head(i)])\n",
    "    expanding = model(current).fit()\n",
    "    if i==0:\n",
    "        orig_fit = expanding.fittedvalues\n",
    "    rolling = model(current.tail(w)).fit()\n",
    "    pred_expanding.update(expanding.forecast(1))\n",
    "    pred_rolling.update(rolling.forecast(1))\n",
    "ax = data[-w:].plot(color='red' )\n",
    "pd.concat([orig_fit[-w:],pred_expanding]).plot(ax=ax,color='blue');\n",
    "pd.concat([orig_fit[-w:],pred_rolling]).plot(ax=ax,color='green');"
   ]
  },
  {
   "cell_type": "markdown",
   "metadata": {},
   "source": [
    "# 3. Validación de Modelos"
   ]
  },
  {
   "cell_type": "code",
   "execution_count": null,
   "metadata": {},
   "outputs": [],
   "source": [
    "# Real time forecasting - use it as a template - expanding window\n",
    "\n",
    "validation=y['2016Q1':].index \n",
    "start = y.index.get_loc('2016Q1') \n",
    "\n",
    "pred1 = []\n",
    "pred2 = []\n",
    "actual= []\n",
    "for i in range(start, len(y)):\n",
    "    actual.append(y.iloc[i]) # actual value\n",
    "    pred1.append(y.iloc[i-1]) # random walk forecast\n",
    "    model = sm.tsa.SimpleExpSmoothing(y.iloc[:i]).fit() \n",
    "    pred2.append(model.forecast(1)[0]) # SES forecast\n",
    "\n",
    "columns=['RW', 'SES', 'Actual']\n",
    "results_sm = np.vstack([pred1,pred2,actual]).T\n",
    "results_sm = pd.DataFrame(results_sm, columns=columns, index=validation)\n",
    "\n",
    "results_sm.tail()"
   ]
  },
  {
   "cell_type": "code",
   "execution_count": null,
   "metadata": {},
   "outputs": [],
   "source": [
    "from scipy import stats\n",
    "\n",
    "table = pd.DataFrame(0.0, index=results_sm.columns[:-1], columns=['RMSE','SE'])\n",
    "for i in range(2):\n",
    "    table.iloc[i,0] = sm.tools.eval_measures.rmse(results_sm.iloc[:,i], results_sm.iloc[:,-1])\n",
    "    table.iloc[i,1] = (results_sm.iloc[:,i] - results_sm.iloc[:,-1]).sem()\n",
    "table.round(3)"
   ]
  },
  {
   "cell_type": "markdown",
   "metadata": {},
   "source": [
    "# 4. Comparación y Selección del Modelo "
   ]
  },
  {
   "cell_type": "markdown",
   "metadata": {},
   "source": [
    "De la sección inmediata anterior, podemos advertir que Random Walk (Naïve) **(RM)** tiene menor RMSE de validación acorde a los datos utilizados, lo cual lo convierte en el mas conveninete de entre los comparados.Se advierte además una elevada Desviación estándar y un set de datos acotado, por lo que sería conveniente analizar algunos otros modelos, tal como veremos en el práctico numero dos."
   ]
  },
  {
   "cell_type": "code",
   "execution_count": null,
   "metadata": {},
   "outputs": [],
   "source": [
    "fig, ax= plt.subplots( )\n",
    "y.plot(color=red, label='Observado')\n",
    "naive.plot(color=blue, label='Naïve')\n",
    "fitted_ses.plot(color='black', label='Simple exponential smoothing fit', alpha=0.8)\n",
    "ax.set_xlabel('')\n",
    "ax.set_ylabel(serie_name)\n",
    "ax.set_title(serie_name)\n",
    "ax.set_xticks([], minor=True) \n",
    "plt.legend(loc='best')\n",
    "sns.despine()\n",
    "plt.show()"
   ]
  },
  {
   "cell_type": "code",
   "execution_count": null,
   "metadata": {},
   "outputs": [],
   "source": [
    "resid_naive=y-y.shift(1)\n",
    "\n",
    "fig, ax= plt.subplots( )\n",
    "resid.plot(color=black, label='Smoothing Residual')\n",
    "resid_naive.plot(color=blue, label='Naïve Residual')\n",
    "ax.set_xlabel('')\n",
    "ax.set_xticks([], minor=True) \n",
    "ax.set_title('Gráfica de Residuos')\n",
    "plt.legend(loc='best')\n",
    "sns.despine()\n",
    "plt.show()"
   ]
  },
  {
   "cell_type": "code",
   "execution_count": null,
   "metadata": {},
   "outputs": [],
   "source": []
  }
 ],
 "metadata": {
  "kernelspec": {
   "display_name": "Python 3",
   "language": "python",
   "name": "python3"
  },
  "language_info": {
   "codemirror_mode": {
    "name": "ipython",
    "version": 3
   },
   "file_extension": ".py",
   "mimetype": "text/x-python",
   "name": "python",
   "nbconvert_exporter": "python",
   "pygments_lexer": "ipython3",
   "version": "3.6.6"
  }
 },
 "nbformat": 4,
 "nbformat_minor": 2
}
