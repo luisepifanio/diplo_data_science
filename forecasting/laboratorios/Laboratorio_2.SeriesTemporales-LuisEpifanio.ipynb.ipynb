{
 "cells": [
  {
   "cell_type": "markdown",
   "metadata": {},
   "source": [
    "# Análisis de Series Temporales\n",
    "## Laboratorio 1\n",
    "\n",
    "Estudiante: Ing. Luis Epifanio (luis.epifanio@gmail.com)"
   ]
  },
  {
   "cell_type": "markdown",
   "metadata": {},
   "source": [
    "# 1. Consigna\n",
    "1) Consigna\n",
    "\n",
    "2) Levantar los datos desde el archivo dataset/demanda.csv. Los mismos fueron extraídos de http://portalweb.cammesa.com/memnet1/Pages/descargas.aspx \n",
    "\n",
    ">\n",
    "> Ver apartado [2.1. Carga y Limpieza de Datos](#2.1.-Carga-y-Limpieza-de-Datos)\n",
    ">\n",
    "\n",
    "3) Explorar los datos y visualizar descomposición de datos\n",
    ">\n",
    "> Ver apartado [3.1. Explorar los datos y visualizar descomposición de datos](#3.1-Explorar-los-datos-y-visualizar-descomposición-de-datos.)\n",
    ">\n",
    "\n",
    "\n",
    "4) Modelar con Holt Winters Smoothing con diferentes parámetros\n",
    ">\n",
    "> Ver apartado [4.1. Holt Winters con Suavizado Exponencial](#4.1-Holt-winters-exponential-smoothing)\n",
    ">\n",
    "\n",
    "5) Visualizar los resultados y evaluar su poder predictivo, comparando ambos modelos\n"
   ]
  },
  {
   "cell_type": "markdown",
   "metadata": {},
   "source": [
    "# 2. Desarrollo"
   ]
  },
  {
   "cell_type": "code",
   "execution_count": 1,
   "metadata": {},
   "outputs": [],
   "source": [
    "# Packages\n",
    "import numpy as np\n",
    "from scipy import stats\n",
    "import pandas as pd\n",
    "import matplotlib.pyplot as plt\n",
    "import seaborn as sns\n",
    "import statsmodels.api as sm\n"
   ]
  },
  {
   "cell_type": "code",
   "execution_count": 2,
   "metadata": {},
   "outputs": [],
   "source": [
    "# Plot settings\n",
    "sns.palplot(sns.color_palette(\"husl\"))\n",
    "sns.set_context('notebook') \n",
    "sns.set_style('ticks')\n",
    "sns.set()\n",
    "red='#D62728'\n",
    "blue='#1F77B4'\n",
    "%matplotlib inline"
   ]
  },
  {
   "cell_type": "code",
   "execution_count": 3,
   "metadata": {},
   "outputs": [],
   "source": [
    "plt.rcParams['figure.figsize'] = [15, 10]\n",
    "plt.style.use('ggplot')"
   ]
  },
  {
   "cell_type": "markdown",
   "metadata": {},
   "source": [
    "## 2.1. Carga y Limpieza de Datos\n",
    "\n",
    "Correspondiente al punto 1: \n",
    "> Levantar los datos desde el archivo dataset/demanda.csv. Los mismos fueron extraídos de \n",
    "> http://portalweb.cammesa.com/memnet1/Pages/descargas.aspx"
   ]
  },
  {
   "cell_type": "code",
   "execution_count": 4,
   "metadata": {},
   "outputs": [
    {
     "data": {
      "text/plain": [
       "DatetimeIndex(['2015-01-01', '2015-02-01', '2015-03-01', '2015-04-01',\n",
       "               '2015-05-01', '2015-06-01', '2015-07-01', '2015-08-01',\n",
       "               '2015-09-01', '2015-10-01', '2015-11-01', '2015-12-01',\n",
       "               '2016-01-01', '2016-02-01', '2016-03-01', '2016-04-01',\n",
       "               '2016-05-01', '2016-06-01', '2016-07-01', '2016-08-01',\n",
       "               '2016-09-01', '2016-10-01', '2016-11-01', '2016-12-01',\n",
       "               '2017-01-01', '2017-02-01', '2017-03-01', '2017-04-01',\n",
       "               '2017-05-01', '2017-06-01', '2017-07-01', '2017-08-01',\n",
       "               '2017-09-01', '2017-10-01', '2017-11-01', '2017-12-01',\n",
       "               '2018-01-01', '2018-02-01', '2018-03-01', '2018-04-01',\n",
       "               '2018-05-01', '2018-06-01', '2018-07-01', '2018-08-01'],\n",
       "              dtype='datetime64[ns]', name='periodo', freq=None)"
      ]
     },
     "metadata": {},
     "output_type": "display_data"
    },
    {
     "data": {
      "text/html": [
       "<div>\n",
       "<style scoped>\n",
       "    .dataframe tbody tr th:only-of-type {\n",
       "        vertical-align: middle;\n",
       "    }\n",
       "\n",
       "    .dataframe tbody tr th {\n",
       "        vertical-align: top;\n",
       "    }\n",
       "\n",
       "    .dataframe thead th {\n",
       "        text-align: right;\n",
       "    }\n",
       "</style>\n",
       "<table border=\"1\" class=\"dataframe\">\n",
       "  <thead>\n",
       "    <tr style=\"text-align: right;\">\n",
       "      <th></th>\n",
       "      <th>residencial</th>\n",
       "      <th>comercial</th>\n",
       "      <th>industrial</th>\n",
       "      <th>total</th>\n",
       "    </tr>\n",
       "    <tr>\n",
       "      <th>periodo</th>\n",
       "      <th></th>\n",
       "      <th></th>\n",
       "      <th></th>\n",
       "      <th></th>\n",
       "    </tr>\n",
       "  </thead>\n",
       "  <tbody>\n",
       "    <tr>\n",
       "      <th>2018-04-01</th>\n",
       "      <td>4084110</td>\n",
       "      <td>3131427</td>\n",
       "      <td>3277777</td>\n",
       "      <td>10493315</td>\n",
       "    </tr>\n",
       "    <tr>\n",
       "      <th>2018-05-01</th>\n",
       "      <td>4276830</td>\n",
       "      <td>3101854</td>\n",
       "      <td>3286778</td>\n",
       "      <td>10665462</td>\n",
       "    </tr>\n",
       "    <tr>\n",
       "      <th>2018-06-01</th>\n",
       "      <td>5569775</td>\n",
       "      <td>3231036</td>\n",
       "      <td>3123287</td>\n",
       "      <td>11924098</td>\n",
       "    </tr>\n",
       "    <tr>\n",
       "      <th>2018-07-01</th>\n",
       "      <td>6167114</td>\n",
       "      <td>3326186</td>\n",
       "      <td>3112541</td>\n",
       "      <td>12605842</td>\n",
       "    </tr>\n",
       "    <tr>\n",
       "      <th>2018-08-01</th>\n",
       "      <td>5359054</td>\n",
       "      <td>3237765</td>\n",
       "      <td>3112882</td>\n",
       "      <td>11709701</td>\n",
       "    </tr>\n",
       "  </tbody>\n",
       "</table>\n",
       "</div>"
      ],
      "text/plain": [
       "            residencial  comercial  industrial     total\n",
       "periodo                                                 \n",
       "2018-04-01      4084110    3131427     3277777  10493315\n",
       "2018-05-01      4276830    3101854     3286778  10665462\n",
       "2018-06-01      5569775    3231036     3123287  11924098\n",
       "2018-07-01      6167114    3326186     3112541  12605842\n",
       "2018-08-01      5359054    3237765     3112882  11709701"
      ]
     },
     "execution_count": 4,
     "metadata": {},
     "output_type": "execute_result"
    }
   ],
   "source": [
    "data = pd.read_csv('datasets/demanda.csv', index_col='TIPO', parse_dates=True, dayfirst=True, thousands='.')\n",
    "data.index.names = ['periodo']\n",
    "data.rename(\n",
    "    columns={\n",
    "    'Residencial'                 : 'residencial' , \n",
    "    'Comercial'                   : 'comercial'   ,\n",
    "    'Industrial/Comercial Grande' : 'industrial'  ,\n",
    "    'TOTAL'                       : 'total'\n",
    "    }, inplace=True)\n",
    "\n",
    "#data.index = data.index.to_period(freq='M')\n",
    "\n",
    "display(data.index)\n",
    "data.tail(5)"
   ]
  },
  {
   "cell_type": "code",
   "execution_count": 5,
   "metadata": {},
   "outputs": [
    {
     "data": {
      "text/html": [
       "<div>\n",
       "<style scoped>\n",
       "    .dataframe tbody tr th:only-of-type {\n",
       "        vertical-align: middle;\n",
       "    }\n",
       "\n",
       "    .dataframe tbody tr th {\n",
       "        vertical-align: top;\n",
       "    }\n",
       "\n",
       "    .dataframe thead th {\n",
       "        text-align: right;\n",
       "    }\n",
       "</style>\n",
       "<table border=\"1\" class=\"dataframe\">\n",
       "  <thead>\n",
       "    <tr style=\"text-align: right;\">\n",
       "      <th></th>\n",
       "      <th>residencial</th>\n",
       "      <th>comercial</th>\n",
       "      <th>industrial</th>\n",
       "      <th>total</th>\n",
       "    </tr>\n",
       "  </thead>\n",
       "  <tbody>\n",
       "    <tr>\n",
       "      <th>count</th>\n",
       "      <td>44.00</td>\n",
       "      <td>44.00</td>\n",
       "      <td>44.00</td>\n",
       "      <td>44.00</td>\n",
       "    </tr>\n",
       "    <tr>\n",
       "      <th>mean</th>\n",
       "      <td>4745018.02</td>\n",
       "      <td>3193531.25</td>\n",
       "      <td>3201238.93</td>\n",
       "      <td>11139788.20</td>\n",
       "    </tr>\n",
       "    <tr>\n",
       "      <th>std</th>\n",
       "      <td>627095.26</td>\n",
       "      <td>193716.15</td>\n",
       "      <td>107030.91</td>\n",
       "      <td>764343.47</td>\n",
       "    </tr>\n",
       "    <tr>\n",
       "      <th>min</th>\n",
       "      <td>3754330.00</td>\n",
       "      <td>2900824.00</td>\n",
       "      <td>2950818.00</td>\n",
       "      <td>9793759.00</td>\n",
       "    </tr>\n",
       "    <tr>\n",
       "      <th>25%</th>\n",
       "      <td>4222957.00</td>\n",
       "      <td>3038991.25</td>\n",
       "      <td>3122472.25</td>\n",
       "      <td>10466094.50</td>\n",
       "    </tr>\n",
       "    <tr>\n",
       "      <th>50%</th>\n",
       "      <td>4715575.50</td>\n",
       "      <td>3151394.50</td>\n",
       "      <td>3215652.00</td>\n",
       "      <td>11126247.50</td>\n",
       "    </tr>\n",
       "    <tr>\n",
       "      <th>75%</th>\n",
       "      <td>5201443.25</td>\n",
       "      <td>3312377.75</td>\n",
       "      <td>3266523.25</td>\n",
       "      <td>11800556.25</td>\n",
       "    </tr>\n",
       "    <tr>\n",
       "      <th>max</th>\n",
       "      <td>6167114.00</td>\n",
       "      <td>3670275.00</td>\n",
       "      <td>3460880.00</td>\n",
       "      <td>12605842.00</td>\n",
       "    </tr>\n",
       "  </tbody>\n",
       "</table>\n",
       "</div>"
      ],
      "text/plain": [
       "       residencial   comercial  industrial        total\n",
       "count        44.00       44.00       44.00        44.00\n",
       "mean    4745018.02  3193531.25  3201238.93  11139788.20\n",
       "std      627095.26   193716.15   107030.91    764343.47\n",
       "min     3754330.00  2900824.00  2950818.00   9793759.00\n",
       "25%     4222957.00  3038991.25  3122472.25  10466094.50\n",
       "50%     4715575.50  3151394.50  3215652.00  11126247.50\n",
       "75%     5201443.25  3312377.75  3266523.25  11800556.25\n",
       "max     6167114.00  3670275.00  3460880.00  12605842.00"
      ]
     },
     "execution_count": 5,
     "metadata": {},
     "output_type": "execute_result"
    }
   ],
   "source": [
    "data.describe().round(2)"
   ]
  },
  {
   "cell_type": "code",
   "execution_count": 6,
   "metadata": {},
   "outputs": [
    {
     "data": {
      "image/png": "[encoded data removed]",
      "text/plain": [
       "<Figure size 1080x720 with 1 Axes>"
      ]
     },
     "metadata": {},
     "output_type": "display_data"
    }
   ],
   "source": [
    "def extractSerieOnColumn(dataframe, columnName):\n",
    "    y = dataframe[columnName].copy()\n",
    "    # y.index = y.index.to_period(freq='M')\n",
    "    return ( y, dataframe[columnName])\n",
    "\n",
    "def plotSerie( y, yLabel ):\n",
    "    fig, ax= plt.subplots( )\n",
    "    y.plot(color=red)\n",
    "    ax.set_xlabel('')\n",
    "    ax.set_ylabel(yLabel)\n",
    "    ax.set_title('Demanda (2015-2018)')\n",
    "    ax.set_xticks([], minor=True)\n",
    "    sns.despine()\n",
    "    plt.show()\n",
    "\n",
    "y,timeserie = extractSerieOnColumn(data,'total')\n",
    "plotSerie(y, 'Demanda Total')"
   ]
  },
  {
   "cell_type": "markdown",
   "metadata": {},
   "source": [
    "# 3. Descomposición de series temporales"
   ]
  },
  {
   "cell_type": "markdown",
   "metadata": {},
   "source": [
    "## 3.1 Explorar los datos y visualizar descomposición de datos."
   ]
  },
  {
   "cell_type": "code",
   "execution_count": 7,
   "metadata": {},
   "outputs": [],
   "source": [
    "decomposition = sm.tsa.x13_arima_analysis(timeserie,x12path='.')"
   ]
  },
  {
   "cell_type": "code",
   "execution_count": 8,
   "metadata": {},
   "outputs": [
    {
     "data": {
      "text/plain": [
       "['irregular', 'observed', 'plot', 'results', 'seasadj', 'stdout', 'trend']"
      ]
     },
     "execution_count": 8,
     "metadata": {},
     "output_type": "execute_result"
    }
   ],
   "source": [
    "dir(decomposition)[-7:]"
   ]
  },
  {
   "cell_type": "code",
   "execution_count": 9,
   "metadata": {},
   "outputs": [
    {
     "data": {
      "image/png": "[encoded data removed]",
      "text/plain": [
       "<Figure size 1080x720 with 1 Axes>"
      ]
     },
     "metadata": {},
     "output_type": "display_data"
    }
   ],
   "source": [
    "# play with trend, irregular,observed,seasadj\n",
    "\n",
    "def plotComponent(decomposition, componentName,yLabel):\n",
    "    fig, ax= plt.subplots( )\n",
    "    getattr(decomposition, componentName).plot(color=red)\n",
    "    ax.set_xlabel('')\n",
    "    ax.set_ylabel(yLabel)\n",
    "    ax.set_title('Analisis de \\''+ componentName+'\\'')\n",
    "    ax.set_xticks([], minor=True) # I prefer to remove the minor ticks for a cleaner plot\n",
    "    sns.despine()\n",
    "    plt.show()\n",
    "    \n",
    "plotComponent(decomposition,'trend','Demanda Total de Energia')"
   ]
  },
  {
   "cell_type": "code",
   "execution_count": 10,
   "metadata": {},
   "outputs": [
    {
     "ename": "ModuleNotFoundError",
     "evalue": "No module named 'plotting'",
     "output_type": "error",
     "traceback": [
      "\u001b[0;31m---------------------------------------------------------------------------\u001b[0m",
      "\u001b[0;31mModuleNotFoundError\u001b[0m                       Traceback (most recent call last)",
      "\u001b[0;32m<ipython-input-10-5137aece0743>\u001b[0m in \u001b[0;36m<module>\u001b[0;34m\u001b[0m\n\u001b[0;32m----> 1\u001b[0;31m \u001b[0;32mfrom\u001b[0m \u001b[0mplotting\u001b[0m \u001b[0;32mimport\u001b[0m \u001b[0mplot_components_x13\u001b[0m\u001b[0;34m\u001b[0m\u001b[0m\n\u001b[0m\u001b[1;32m      2\u001b[0m \u001b[0mplot_components_x13\u001b[0m\u001b[0;34m(\u001b[0m\u001b[0mdecomposition\u001b[0m\u001b[0;34m)\u001b[0m\u001b[0;34m\u001b[0m\u001b[0m\n\u001b[1;32m      3\u001b[0m \u001b[0mplt\u001b[0m\u001b[0;34m.\u001b[0m\u001b[0mshow\u001b[0m\u001b[0;34m(\u001b[0m\u001b[0;34m)\u001b[0m\u001b[0;34m\u001b[0m\u001b[0m\n",
      "\u001b[0;31mModuleNotFoundError\u001b[0m: No module named 'plotting'"
     ]
    }
   ],
   "source": [
    "from plotting import plot_components_x13\n",
    "plot_components_x13(decomposition)\n",
    "plt.show()"
   ]
  },
  {
   "cell_type": "code",
   "execution_count": null,
   "metadata": {},
   "outputs": [],
   "source": [
    "f=open('x13resultsForDemanda.txt', mode='w+')\n",
    "f.write(decomposition.results)\n",
    "f.close()"
   ]
  },
  {
   "cell_type": "markdown",
   "metadata": {},
   "source": [
    "## Trend corrected exponential smoothing"
   ]
  },
  {
   "cell_type": "code",
   "execution_count": null,
   "metadata": {},
   "outputs": [],
   "source": [
    "# play with trend, irregular,observed,seasadj\n",
    "ts=decomposition.trend\n",
    "ts.index=ts.index.to_period(freq='M')"
   ]
  },
  {
   "cell_type": "code",
   "execution_count": null,
   "metadata": {},
   "outputs": [],
   "source": [
    "model_sm = sm.tsa.Holt(ts).fit()\n",
    "smoothed_sm = model_sm.fittedvalues\n",
    "alpha_sm = model_sm.model.params['smoothing_level']\n",
    "betha_sm = model_sm.model.params['smoothing_slope']\n",
    "mse_sm = sm.tools.eval_measures.mse(ts,smoothed_sm)\n",
    "print(' Smoothing parameter: alpha  {0:.3f}'.format(alpha_sm))\n",
    "print(' Smoothing parameter: betha  {0:.3f}'.format(betha_sm))\n",
    "print(' In-sample fit:')\n",
    "print(' MSE               {0:.3f}'.format(mse_sm))"
   ]
  },
  {
   "cell_type": "code",
   "execution_count": null,
   "metadata": {},
   "outputs": [],
   "source": [
    "fig, ax= plt.subplots( )\n",
    "\n",
    "ts['2015':].plot(color='#D62728', label='Seasonally adjusted retail turnover')\n",
    "smoothed_sm['2015':].plot(color='black', label='Smoothed', alpha=0.65)\n",
    "plt.legend(loc='best')\n",
    "ax.set_xlabel('')\n",
    "ax.set_xticks([], minor=True)\n",
    "ax.set_title(r'Holt exponential smoothing', fontsize=13.5, fontweight='bold')\n",
    "sns.despine()\n",
    "plt.show()"
   ]
  },
  {
   "cell_type": "code",
   "execution_count": null,
   "metadata": {},
   "outputs": [],
   "source": [
    "h=24\n",
    "w=h*3\n",
    "data = ts\n",
    "model = sm.tsa.Holt\n",
    "pred_index = data.index[-1] + np.array(range(1,h+1))\n",
    "pred_rolling = pd.Series(0,index=pred_index)\n",
    "pred_expanding = pd.Series(0,index=pred_index)\n",
    "orig_fit = None\n",
    "for i in range(0,h):\n",
    "    current = pd.concat([data, pred_expanding.head(i)])\n",
    "    expanding = model(current).fit()\n",
    "    if i==0:\n",
    "        orig_fit = expanding.fittedvalues\n",
    "    rolling = model(current.tail(w)).fit()\n",
    "    pred_expanding.update(expanding.forecast(1))\n",
    "    pred_rolling.update(rolling.forecast(1))\n",
    "ax = data[-w:].plot(color='red'            )\n",
    "pd.concat([orig_fit[-w:],pred_expanding]).plot(ax=ax,color='blue');\n",
    "pd.concat([orig_fit[-w:],pred_rolling]).plot(ax=ax,color='green');"
   ]
  },
  {
   "cell_type": "markdown",
   "metadata": {},
   "source": [
    "# 4. Modelos Holt Winters Smoothing"
   ]
  },
  {
   "cell_type": "markdown",
   "metadata": {},
   "source": [
    "## 4.1 Holt-winters exponential smoothing"
   ]
  },
  {
   "cell_type": "code",
   "execution_count": null,
   "metadata": {},
   "outputs": [],
   "source": [
    "def hw_summary(model_sm):\n",
    "    alpha_sm = model_sm.model.params['smoothing_level']\n",
    "    betha_sm = model_sm.model.params['smoothing_slope']\n",
    "    delta_sm = model_sm.model.params['smoothing_seasonal']\n",
    "    mse_sm = sm.tools.eval_measures.mse(model_sm.data.endog,model_sm.fittedvalues)\n",
    "    rmse_sm = sm.tools.eval_measures.rmse(model_sm.data.endog,model_sm.fittedvalues)\n",
    "    print(' Smoothing parameter: alpha  {0:.3f}'.format(alpha_sm))\n",
    "    print(' Smoothing parameter: betha  {0:.3f}'.format(betha_sm))\n",
    "    print(' Smoothing parameter: delta  {0:.3f}'.format(delta_sm))\n",
    "    print(' In-sample fit:')\n",
    "    print(' MSE               {0:.3f}'.format(mse_sm))\n",
    "    print(' RMSE               {0:.3f}'.format(rmse_sm))\n",
    "    return rmse_sm"
   ]
  },
  {
   "cell_type": "markdown",
   "metadata": {},
   "source": [
    "A continuacion probaoms con modelos additivos y multiplicativos"
   ]
  },
  {
   "cell_type": "code",
   "execution_count": null,
   "metadata": {},
   "outputs": [],
   "source": [
    "ahw_sm=sm.tsa.ExponentialSmoothing(\n",
    "    y, \n",
    "    trend='add', \n",
    "    damped=False,\n",
    "    seasonal='add', \n",
    "    seasonal_periods=12\n",
    ").fit()\n",
    "\n",
    "hw_summary(ahw_sm);"
   ]
  },
  {
   "cell_type": "code",
   "execution_count": null,
   "metadata": {},
   "outputs": [],
   "source": [
    "mhw_sm=sm.tsa.ExponentialSmoothing(\n",
    "    y, \n",
    "    trend='add', \n",
    "    damped=False, \n",
    "    seasonal='mul', \n",
    "    seasonal_periods=12\n",
    ").fit()\n",
    "hw_summary(mhw_sm);"
   ]
  },
  {
   "cell_type": "markdown",
   "metadata": {},
   "source": [
    "# 5 Visualización y Evaluación"
   ]
  },
  {
   "cell_type": "markdown",
   "metadata": {},
   "source": [
    "## 5.1.Visualizar los resultados y evaluar su poder predictivo"
   ]
  },
  {
   "cell_type": "code",
   "execution_count": null,
   "metadata": {},
   "outputs": [],
   "source": [
    "smoothed_mul=pd.Series(mhw_sm.fittedvalues, index=y.index)\n",
    "smoothed_add=pd.Series(ahw_sm.fittedvalues, index=y.index)\n",
    "\n",
    "fig, ax= plt.subplots()\n",
    "\n",
    "linestyles = ['_', '-', '--', ':']\n",
    "linestyle='None'\n",
    "\n",
    "y['2015':].plot(color='#D62728', label='Demanda Total de Energia')\n",
    "smoothed_mul['2015':].plot(color='green', linestyle='--', label='Multiplicative', alpha=0.9)\n",
    "smoothed_add['2015':].plot(color='blue', linestyle=':', label='Additive', alpha=0.9)\n",
    "plt.legend(loc='best')\n",
    "ax.set_xlabel('')\n",
    "ax.set_xticks([], minor=True)\n",
    "ax.set_title(r'Holt-winters exponential smoothing', fontsize=13.5, fontweight='bold')\n",
    "sns.despine()\n",
    "plt.show()"
   ]
  },
  {
   "cell_type": "markdown",
   "metadata": {},
   "source": [
    "### Analisis de modelo y residuos"
   ]
  },
  {
   "cell_type": "code",
   "execution_count": null,
   "metadata": {},
   "outputs": [],
   "source": [
    "resid_mul = (y-mhw_sm.fittedvalues)[12:] # we remove the first 12 observations as they are for initialisitation only\n",
    "resid_add = (y-ahw_sm.fittedvalues)[12:]\n",
    "\n",
    "fig, ax= plt.subplots( )\n",
    "resid_mul.plot(color='green', linestyle='--', label='Multiplicative', alpha=0.9)\n",
    "resid_add.plot(color='blue', linestyle=':', label='Additive', alpha=0.9)\n",
    "ax.set_xlabel('')\n",
    "ax.set_xticks([], minor=True) \n",
    "ax.set_title('Residual plot')\n",
    "sns.despine()\n",
    "plt.show()"
   ]
  },
  {
   "cell_type": "code",
   "execution_count": null,
   "metadata": {},
   "outputs": [],
   "source": [
    "def plot_residues(resid):\n",
    "    fig, ax = plt.subplots()\n",
    "    lags = len(resid) - 1\n",
    "    sm.graphics.tsa.plot_acf(resid, lags=lags, ax=ax)\n",
    "    sns.despine()\n",
    "    plt.show()\n"
   ]
  },
  {
   "cell_type": "markdown",
   "metadata": {},
   "source": [
    "### Distribución de residuos para modelo additivo"
   ]
  },
  {
   "cell_type": "code",
   "execution_count": null,
   "metadata": {},
   "outputs": [],
   "source": [
    "plot_residues(resid_add)\n"
   ]
  },
  {
   "cell_type": "code",
   "execution_count": null,
   "metadata": {},
   "outputs": [],
   "source": [
    "### Distribución de residuos para modelo multiplicativo"
   ]
  },
  {
   "cell_type": "code",
   "execution_count": null,
   "metadata": {},
   "outputs": [],
   "source": [
    "plot_residues(resid_mul)\n"
   ]
  },
  {
   "cell_type": "code",
   "execution_count": null,
   "metadata": {},
   "outputs": [],
   "source": [
    "from plotting import histogram\n",
    "\n",
    "histogram(resid_add)\n",
    "histogram(resid_mul)\n",
    "\n",
    "plt.show()"
   ]
  },
  {
   "cell_type": "markdown",
   "metadata": {},
   "source": [
    "## Model validation"
   ]
  },
  {
   "cell_type": "code",
   "execution_count": null,
   "metadata": {},
   "outputs": [],
   "source": [
    "start_val = y.index[-round(len(y)/12*.2)*12]\n",
    "start_val"
   ]
  },
  {
   "cell_type": "code",
   "execution_count": null,
   "metadata": {},
   "outputs": [],
   "source": [
    "# Real time forecasting \n",
    "\n",
    "validation=y[start_val:].index\n",
    "start = y.index.get_loc(start_val) \n",
    "\n",
    "pred1 = [] # seasonal random walk\n",
    "pred2 = [] # additive holt winters\n",
    "pred3 = [] # multiplicative holt winters\n",
    "actual= []\n",
    "\n",
    "for i in range(start, len(y)):\n",
    "    \n",
    "    actual.append(y.iloc[i]) # actual value\n",
    "    \n",
    "    pred1.append(y.iloc[i-12]) # seasonal random walk forecast\n",
    "    \n",
    "    model = sm.tsa.ExponentialSmoothing(y.iloc[:i], trend='add', damped=False, seasonal='add', seasonal_periods=12).fit()\n",
    "    pred2.append(model.forecast(1)[0]) # additive holt winters forecast\n",
    "    \n",
    "    model = sm.tsa.ExponentialSmoothing(y.iloc[:i], trend='add', damped=False, seasonal='mul', seasonal_periods=12).fit()\n",
    "    pred3.append(model.forecast(1)[0]) # multiplicate holt winters forecast\n",
    "    \n",
    "\n",
    "columns=['Seasonal RW', 'Additive', 'Multiplicative', 'Actual']\n",
    "results = np.vstack([pred1,pred2,pred3,actual]).T\n",
    "results = pd.DataFrame(results, columns=columns, index=validation)"
   ]
  },
  {
   "cell_type": "code",
   "execution_count": null,
   "metadata": {},
   "outputs": [],
   "source": [
    "from scipy import stats\n",
    "\n",
    "table = pd.DataFrame(0.0, index=results.columns[:-1], columns=['RMSE','SE'])\n",
    "for i in range(len(results.columns)-1):\n",
    "    table.iloc[i,0] = sm.tools.eval_measures.rmse(results.iloc[:,i], results.iloc[:,-1])\n",
    "    table.iloc[i,1] = (results.iloc[:,i] - results.iloc[:,-1]).sem()\n",
    "table.round(3)"
   ]
  },
  {
   "cell_type": "markdown",
   "metadata": {},
   "source": [
    "Un breve analisis comparativo demuestra que ambos modelos son similares, sin embargo elegiremos la variante multiplicativa debido a su menor RMSE, demostrando se mejor que alguno modelo más simple y de referencia"
   ]
  },
  {
   "cell_type": "markdown",
   "metadata": {},
   "source": [
    "# 6. Forecast"
   ]
  },
  {
   "cell_type": "code",
   "execution_count": null,
   "metadata": {},
   "outputs": [],
   "source": [
    "h=24\n",
    "\n",
    "model_add = sm.tsa.ExponentialSmoothing(\n",
    "            y, \n",
    "            trend='add', \n",
    "            damped=False, \n",
    "            seasonal='add', \n",
    "            seasonal_periods=12\n",
    "        ).fit()\n",
    "model_mul = sm.tsa.ExponentialSmoothing(\n",
    "            y, \n",
    "            trend='add', \n",
    "            damped=False, \n",
    "            seasonal='mul', \n",
    "            seasonal_periods=12\n",
    "        ).fit()\n",
    "\n",
    "forecast_add = model_add.forecast(h)\n",
    "forecast_mul = model_mul.forecast(h)\n",
    "\n",
    "plot = pd.DataFrame()\n",
    "plot['model_add'] = pd.concat([model_add.fittedvalues, forecast_add])\n",
    "plot['model_mul'] = pd.concat([model_mul.fittedvalues, forecast_mul])\n",
    "plot['data'] = y\n",
    "#pd.Series(model.fittedvalues + model.fcastvalues), \n",
    "#                         index=pd.period_range(y.index[0],y.index[-1]+h,freq=y.index.freq))\n",
    "\n",
    "plot['2010':].plot();"
   ]
  },
  {
   "cell_type": "code",
   "execution_count": null,
   "metadata": {},
   "outputs": [],
   "source": []
  }
 ],
 "metadata": {
  "kernelspec": {
   "display_name": "Python 3",
   "language": "python",
   "name": "python3"
  },
  "language_info": {
   "codemirror_mode": {
    "name": "ipython",
    "version": 3
   },
   "file_extension": ".py",
   "mimetype": "text/x-python",
   "name": "python",
   "nbconvert_exporter": "python",
   "pygments_lexer": "ipython3",
   "version": "3.6.6"
  }
 },
 "nbformat": 4,
 "nbformat_minor": 2
}
